{
 "cells": [
  {
   "cell_type": "code",
   "execution_count": 13,
   "metadata": {},
   "outputs": [
    {
     "name": "stdout",
     "output_type": "stream",
     "text": [
      "(-2-2j)\n"
     ]
    }
   ],
   "source": [
    "#1.Write a program to subtract two complex numbers in Python.\n",
    "\n",
    "a = complex(4,7)\n",
    "b = complex(6,9)\n",
    "c = (a-b)   # \"-\" allows to subtract\n",
    "print(c)"
   ]
  },
  {
   "cell_type": "code",
   "execution_count": 12,
   "metadata": {},
   "outputs": [
    {
     "name": "stdout",
     "output_type": "stream",
     "text": [
      "8\n",
      "4\n",
      "1.681792830507429\n"
     ]
    }
   ],
   "source": [
    "#2.Write a program to find the fourth root of a number.\n",
    "\n",
    "x = int(input())\n",
    "y = int(input())\n",
    "root = x**(1/y)\n",
    "print(root)"
   ]
  },
  {
   "cell_type": "code",
   "execution_count": 10,
   "metadata": {},
   "outputs": [
    {
     "name": "stdout",
     "output_type": "stream",
     "text": [
      "3456\n",
      "5674\n",
      "5674 3456\n"
     ]
    }
   ],
   "source": [
    "# 3.Write a program to swap two numbers in Python with the help of a temporary variable.\n",
    "\n",
    "x = int(input())\n",
    "y = int(input())\n",
    "z = x    # \"z\" as temporary variable.\n",
    "x = y\n",
    "y = z\n",
    "print(x,y)"
   ]
  },
  {
   "cell_type": "code",
   "execution_count": 16,
   "metadata": {},
   "outputs": [
    {
     "name": "stdout",
     "output_type": "stream",
     "text": [
      "2\n",
      "4\n",
      "4 2\n"
     ]
    }
   ],
   "source": [
    "# 4.Write a program to swap two numbers in Python without using a temporary variable.\n",
    "\n",
    "p = int(input())\n",
    "r = int(input())\n",
    "p = p*r\n",
    "r = p//r\n",
    "p = p//r\n",
    "print(p,r)"
   ]
  },
  {
   "cell_type": "code",
   "execution_count": 23,
   "metadata": {},
   "outputs": [
    {
     "name": "stdout",
     "output_type": "stream",
     "text": [
      "212\n",
      "fahrenheit to kelvin= 373.5\n",
      "fahrenheit to celsius= 100.0\n"
     ]
    }
   ],
   "source": [
    "# 5.Write a program to convert fahrenheit to kelvin and celsius both.\n",
    "\n",
    "F = int(input())\n",
    "k = 273.5 + ((F-32.0)*(5.0/9.0))   #to convert into kelvin\n",
    "c = (F-32)*(5/9)                   #to convert into celsius\n",
    "print(\"fahrenheit to kelvin=\",k)\n",
    "print(\"fahrenheit to celsius=\",c)"
   ]
  },
  {
   "cell_type": "code",
   "execution_count": 27,
   "metadata": {},
   "outputs": [
    {
     "name": "stdout",
     "output_type": "stream",
     "text": [
      "<class 'int'>\n",
      "<class 'float'>\n",
      "<class 'str'>\n",
      "<class 'complex'>\n",
      "<class 'bool'>\n",
      "<class 'float'>\n",
      "<class 'list'>\n",
      "<class 'tuple'>\n",
      "<class 'set'>\n",
      "<class 'dict'>\n",
      "<class 'range'>\n"
     ]
    }
   ],
   "source": [
    "# 6.Write a program to demonstrate all the available data types in Python. Hint: Use type() function.\n",
    "\n",
    "l = 24\n",
    "m = 2.4\n",
    "n = \"ved\"\n",
    "o = 67+26j\n",
    "p = False\n",
    "q = 678532468.8709\n",
    "r = [\"hi\",\"hey\",12.4,97,56.9]\n",
    "s = (\"hi\",\"hey\",12.4,97,56.9)\n",
    "t = {\"hi\",\"hey\",12.4,97,56.9}\n",
    "u = {3:\"man\", 4:\"can\", 5:\"hen\", 6:\"lan\"}\n",
    "v = range(10)\n",
    "\n",
    "print(type(l))\n",
    "print(type(m))\n",
    "print(type(n))\n",
    "print(type(o))\n",
    "print(type(p))\n",
    "print(type(q))\n",
    "print(type(r))\n",
    "print(type(s))\n",
    "print(type(t))\n",
    "print(type(u))\n",
    "print(type(v))"
   ]
  },
  {
   "cell_type": "markdown",
   "metadata": {},
   "source": [
    "__7.Create a Markdown cell in jupyter and list the steps discussed in the session by Dr. Darshan Ingle sir to create Github profile and upload Githubs Assignment link.__\n",
    "\n",
    "--> At first we should sign up with our google account in GitHub.\n",
    "\n",
    "--> After that, we should create a folder(naming day-3 like for which day-assignment we are doing.)on our computer. And put that file on the created folder.\n",
    "\n",
    "--> Now go back to GitHub and click on the new(green colour-button that can be visible left side on the screen.)\n",
    "\n",
    "--> After clicking, it opens as to create a new repository; Then we should type the repository name as \"LetsUpgrade AI-ML\" (mandatory to upload assignments for this course).\n",
    "\n",
    "--> In the description tab it can be optional or can be named as Assignments.\n",
    "\n",
    "--> By default it mentioned as the repository is in public, once check or else select the Public (must and should to select the public)\n",
    "\n",
    "--> After that click on create a repository.\n",
    "\n",
    "--> Then it creates a folder named as LetsUpgrade AI-ML.\n",
    "\n",
    "--> After that we should click on upload an existing file.\n",
    "\n",
    "--> We can drag and drop the folders; Now we should go back to the file explorer or else drive folders in which we created the Day named folder and completed assignments as mentioning in that folder.\n",
    "\n",
    "--> We should drag that folder(named as day-3 or 4 /something) and take it to GitHub, drop on the area where we noticed recently as can be able to drag and drop.\n",
    "\n",
    "--> Next click on commit changes.\n",
    "\n",
    "--> Then our folder will be uploaded and when we click on the folder to see as it opens(GitHub can support almost every type of coding format).\n",
    "\n",
    "--> After that click on that folder, it opens to the file then we should go to the top as we find URL link and click on it and copy the URL; paste it on the respected submission link.\n",
    "\n",
    "--> After that once check that GitHub URL is working or not, before clicking to submit button on the submission form link. To check the GitHub URL, we should go to the incognito tab and paste the URL on the search tab, in this way we can confirm the URL link as working.\n",
    "\n",
    "--> Now by checking all the mentioned data once on the assignment submission form, then we can proceed with clicking on submit button and it will be done; also we will receive the mail as that we submitted the particular (regarding day)assignment.\n"
   ]
  },
  {
   "cell_type": "code",
   "execution_count": null,
   "metadata": {},
   "outputs": [],
   "source": []
  }
 ],
 "metadata": {
  "kernelspec": {
   "display_name": "Python 3",
   "language": "python",
   "name": "python3"
  },
  "language_info": {
   "codemirror_mode": {
    "name": "ipython",
    "version": 3
   },
   "file_extension": ".py",
   "mimetype": "text/x-python",
   "name": "python",
   "nbconvert_exporter": "python",
   "pygments_lexer": "ipython3",
   "version": "3.7.6"
  }
 },
 "nbformat": 4,
 "nbformat_minor": 4
}
