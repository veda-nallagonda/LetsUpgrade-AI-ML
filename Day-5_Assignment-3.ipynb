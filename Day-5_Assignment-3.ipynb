{
 "cells": [
  {
   "cell_type": "code",
   "execution_count": 5,
   "metadata": {},
   "outputs": [
    {
     "name": "stdout",
     "output_type": "stream",
     "text": [
      "[1, 3, 5, 7, 9, 11, 13, 15, 17, 19, 21, 23, 25, 27, 29, 31, 33, 35, 37, 39]\n"
     ]
    }
   ],
   "source": [
    "# Q-1:\n",
    "\n",
    "x = 1\n",
    "l = []\n",
    "for i in range(x,50,1):   \n",
    "    if(len(l)<20 and i%2!=0):\n",
    "        l.append(i)\n",
    "        x=x+1\n",
    "print(l)"
   ]
  },
  {
   "cell_type": "code",
   "execution_count": 8,
   "metadata": {},
   "outputs": [
    {
     "name": "stdout",
     "output_type": "stream",
     "text": [
      "i AM A STUDENT\n",
      "i am a student\n",
      "True\n",
      "True\n",
      "False\n",
      "['I am a student']\n",
      "I am a STUDENT\n",
      "True\n",
      "['I', 'am', 'a', 'student']\n",
      "('I ', 'am', ' a student')\n",
      "2\n",
      "True\n",
      "False\n",
      "{115: '345', 116: '376', 117: '987'}\n",
      "False\n",
      "I AM A STUDENT\n"
     ]
    }
   ],
   "source": [
    "# Q-2:\n",
    "\n",
    "str = \"I am a student\"\n",
    "a = \"   \"\n",
    "b = \"43qwe\"\n",
    "c = \"12345\"\n",
    "d = \"_sdf\"\n",
    "dict= {\"s\": \"345\", \"t\": \"376\", \"u\": \"987\"}\n",
    "print(str.swapcase())        #used to convert lower case to upper case in string.\n",
    "print(str.lower())           #used to convert upper case to lower case in string.\n",
    "print(c.isdigit())           #return true if the string only consists of  numbers only.\n",
    "print(str.isprintable())     #return true if the string is able to print.\n",
    "print(str.istitle())         #return true if the string is Title.\n",
    "print(str.splitlines())      \n",
    "print(str.replace(\"student\",\"STUDENT\")) #used to replace the elements in string.\n",
    "print(str.startswith(\"I\"))        #return true if string starts with \"My\".\n",
    "print(str.rsplit(\" \"))        #convert string into list based on the spaces between them.\n",
    "print(str.rpartition(\"am\"))   #this function used to return tuple with 3 elements based on the arugment we mentioned.\n",
    "print(str.rfind(\"am\"))        #used to find element in string and return the last position where it found.\n",
    "print(b.isalnum())            # return true if the string only consists of alphabets and numbers only.\n",
    "print(str.isalpha())          #return true if the string only consists of alphabets only. \n",
    "print(str.maketrans(dict))       #used to translate the any data type to string.\n",
    "print(str.isupper())            #return true if the string is upper case only\n",
    "print(str.upper())              #convert string in lower to upper case."
   ]
  },
  {
   "cell_type": "code",
   "execution_count": 9,
   "metadata": {},
   "outputs": [
    {
     "name": "stdout",
     "output_type": "stream",
     "text": [
      "madam\n",
      "theclassrom\n",
      "It is a palindrome\n",
      "not a Anagram\n"
     ]
    }
   ],
   "source": [
    "# Q-3:\n",
    "\n",
    "a = input()\n",
    "str1 = input()\n",
    "rev = a[::-1]\n",
    "if(rev==a):\n",
    "    print(\"It is a palindrome\")\n",
    "else:\n",
    "    print(\"not a palindrome\")\n",
    "if(sorted(a)==sorted(str1)):\n",
    "    print(\"It is a Anagarm\")\n",
    "else:\n",
    "    print(\"not a Anagram\")"
   ]
  },
  {
   "cell_type": "code",
   "execution_count": 11,
   "metadata": {},
   "outputs": [
    {
     "name": "stdout",
     "output_type": "stream",
     "text": [
      "vedaaientusiast\n"
     ]
    }
   ],
   "source": [
    "# Q-4:\n",
    "\n",
    "str = \"Veda@AI-Entusiast\"\n",
    "str1 = \"\"\n",
    "for i in str:\n",
    "    if(i.isalnum()):    # \"i.isalnum()\" means alphanumeric\n",
    "        str1=str1+i \n",
    "print(str1.lower())     # \".lower()\" returns in lower cases "
   ]
  }
 ],
 "metadata": {
  "kernelspec": {
   "display_name": "Python 3",
   "language": "python",
   "name": "python3"
  },
  "language_info": {
   "codemirror_mode": {
    "name": "ipython",
    "version": 3
   },
   "file_extension": ".py",
   "mimetype": "text/x-python",
   "name": "python",
   "nbconvert_exporter": "python",
   "pygments_lexer": "ipython3",
   "version": "3.7.6"
  }
 },
 "nbformat": 4,
 "nbformat_minor": 4
}
