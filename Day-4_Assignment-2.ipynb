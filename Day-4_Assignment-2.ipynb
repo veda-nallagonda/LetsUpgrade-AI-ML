{
 "cells": [
  {
   "cell_type": "code",
   "execution_count": 1,
   "metadata": {},
   "outputs": [
    {
     "name": "stdout",
     "output_type": "stream",
     "text": [
      "9\n",
      "7\n",
      "5\n",
      "4\n",
      "(14+11j)\n",
      "(4+3j)\n",
      "(17+71j)\n",
      "(1.780487804878049-0.02439024390243905j)\n",
      "(9+7j) (5+4j)\n"
     ]
    }
   ],
   "source": [
    "# Q_1:\n",
    "\n",
    "r = int(input())\n",
    "s = int(input())\n",
    "t = int(input())\n",
    "u = int(input())\n",
    "p = complex(r,s)\n",
    "q = complex(t,u)\n",
    "\n",
    "# operator to addition is \"+\"\n",
    "g = p+q\n",
    "print(g)\n",
    "\n",
    "# operator to subtract is \"-\"\n",
    "h = p-q\n",
    "print(h)\n",
    "\n",
    "# operator to multiply is \" * \"\n",
    "i=p*q\n",
    "print(i)\n",
    "\n",
    "# operator to divide is \" / \"\n",
    "j=p/q\n",
    "print(j)\n",
    "\n",
    "# 'floor division' is not aplicable for complex numbers as it occurs rounded value and it removes decimal point. \n",
    "\n",
    "# 'modulo operator': abs( ) this returns sqare root of x**2 and y**2\n",
    "k=abs(p)\n",
    "l=abs(q)\n",
    "print(p,q)"
   ]
  },
  {
   "cell_type": "markdown",
   "metadata": {},
   "source": [
    "# Q-2:\n",
    "\n",
    " Range function :-\n",
    "\n",
    "--> __Range function__ is the built-in function. Used to print the sequence of patterns, names or numbers as per our requriment.\n",
    "\n",
    "--> Range function consists of __3__ parameters as \"Start\", \"Stop\", \"Step\".\n",
    "\n",
    "__Syntax : range(start,stop,step)__\n",
    "\n",
    "__Start:__ In this parameter, it defualt taken as \"0\" otherwise we just mention it as per your requriment as either positive(+ve) or negative(-ve)number.\n",
    "\n",
    "__Stop:__ This parameter is used to mention the \"end\" of our sequence.\n",
    "\n",
    "__Step:__ This parameter plays a main role in range function as it is used to increment the value of start value in a periodical way to obtain the output. The step size must and should be a positive or negative value.\n",
    "\n",
    "--> __Limitation:__ In this function the parameters not be in a \"float\" data type.\n",
    "\n",
    "--> As in __python-2__ it is labeled as \"xrange()\" and in __python-3__ it is labelled as \"range()\" and it is mostly used in loops concept.\n"
   ]
  },
  {
   "cell_type": "code",
   "execution_count": 12,
   "metadata": {},
   "outputs": [
    {
     "name": "stdout",
     "output_type": "stream",
     "text": [
      "3\n",
      "5\n",
      "7\n",
      "9\n"
     ]
    }
   ],
   "source": [
    "# Q-2 continution (range program)\n",
    "\n",
    "a = range(3,10,2)\n",
    "for i in a:\n",
    "    print(i)"
   ]
  },
  {
   "cell_type": "code",
   "execution_count": 13,
   "metadata": {},
   "outputs": [
    {
     "name": "stdout",
     "output_type": "stream",
     "text": [
      "50\n",
      "25\n",
      "2.0\n"
     ]
    }
   ],
   "source": [
    "# Q-3:\n",
    "\n",
    "x = int(input())\n",
    "y = int(input())\n",
    "if((x-y)>25):\n",
    "    print(x*y)\n",
    "else:\n",
    "    print(x/y)"
   ]
  },
  {
   "cell_type": "code",
   "execution_count": 18,
   "metadata": {},
   "outputs": [
    {
     "name": "stdout",
     "output_type": "stream",
     "text": [
      "1 2 3 4 5 6 7 8 9 10\n",
      "-1\n",
      "2\n",
      "7\n",
      "14\n",
      "23\n",
      "34\n",
      "47\n",
      "62\n",
      "79\n",
      "98\n"
     ]
    }
   ],
   "source": [
    "# Q-4:\n",
    "\n",
    "x = input()\n",
    "l = list(map(int, x.split()))\n",
    "for i in l: \n",
    "    if(i/2 and len(l)==10):\n",
    "        print((i**2)-2)"
   ]
  },
  {
   "cell_type": "code",
   "execution_count": 21,
   "metadata": {},
   "outputs": [
    {
     "name": "stdout",
     "output_type": "stream",
     "text": [
      "[8, 10, 12, 14, 16, 18, 20]\n"
     ]
    }
   ],
   "source": [
    "# Q-5:\n",
    "\n",
    "l = [2,4,6,8,10,12,14,16,18,20]\n",
    "k = []\n",
    "for i in l:\n",
    "    if(i>7 and i%2==0 and len(l)==10):\n",
    "        k.append(i)\n",
    "print(k)"
   ]
  }
 ],
 "metadata": {
  "kernelspec": {
   "display_name": "Python 3",
   "language": "python",
   "name": "python3"
  },
  "language_info": {
   "codemirror_mode": {
    "name": "ipython",
    "version": 3
   },
   "file_extension": ".py",
   "mimetype": "text/x-python",
   "name": "python",
   "nbconvert_exporter": "python",
   "pygments_lexer": "ipython3",
   "version": "3.7.6"
  }
 },
 "nbformat": 4,
 "nbformat_minor": 4
}
